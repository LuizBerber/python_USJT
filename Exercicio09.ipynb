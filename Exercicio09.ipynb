{
 "cells": [
  {
   "cell_type": "markdown",
   "metadata": {},
   "source": [
    "### Exercício 09\n",
    "**Nome**: Luiz Fernando Ferreira Berber <br>\n",
    "**RA**: 817123421"
   ]
  },
  {
   "cell_type": "markdown",
   "metadata": {},
   "source": [
    "**1** Faça um Programa que peça o raio de um círculo, calcule e mostre sua área."
   ]
  },
  {
   "cell_type": "code",
   "execution_count": 14,
   "metadata": {},
   "outputs": [
    {
     "name": "stdout",
     "output_type": "stream",
     "text": [
      "Digite o raio do circulo\n",
      "10\n",
      "Área e 314.0\n"
     ]
    }
   ],
   "source": [
    "print(\"Digite o raio do circulo\")\n",
    "raio = float(input())\n",
    "\n",
    "area = 3.14 *(raio**2)\n",
    "\n",
    "print (\"Área e {}\".format(area))"
   ]
  },
  {
   "cell_type": "markdown",
   "metadata": {},
   "source": [
    "**2** Faça um Programa que calcule a área de um quadrado, em seguida mostre o dobro desta área para o usuário."
   ]
  },
  {
   "cell_type": "code",
   "execution_count": 19,
   "metadata": {},
   "outputs": [
    {
     "name": "stdout",
     "output_type": "stream",
     "text": [
      "Insira um lado do quadrado\n",
      "4\n",
      "A área do quadrado é 16.0\n",
      "O dobro desta área é 32.0\n"
     ]
    }
   ],
   "source": [
    "print('Insira um lado do quadrado')\n",
    "\n",
    "lado = float(input())\n",
    "\n",
    "area = lado*lado\n",
    "\n",
    "print(\"A área do quadrado é {}\".format(area))\n",
    "\n",
    "print('O dobro desta área é {}'.format(area+area))\n"
   ]
  },
  {
   "cell_type": "markdown",
   "metadata": {},
   "source": [
    "**3** Faça um Programa que pergunte quanto você ganha por hora e o número de horas\n",
    "trabalhadas no mês. Calcule e mostre o total do seu salário no referido mês."
   ]
  },
  {
   "cell_type": "code",
   "execution_count": 17,
   "metadata": {},
   "outputs": [
    {
     "name": "stdout",
     "output_type": "stream",
     "text": [
      "Digite quanto você recebe por hora\n",
      "6\n",
      "Digite quantas horas voê trabalha por mês\n",
      "20\n",
      "Seu salário é de: 120.0\n"
     ]
    }
   ],
   "source": [
    "print('Digite quanto você recebe por hora')\n",
    "\n",
    "preco_hora = float(input())\n",
    "\n",
    "print('Digite quantas horas voê trabalha por mês')\n",
    "\n",
    "hora = float(input())\n",
    "\n",
    "print('Seu salário é de: {}'.format(preco_hora*hora))"
   ]
  },
  {
   "cell_type": "markdown",
   "metadata": {},
   "source": [
    "**4** Faça um Programa que peça a temperatura em graus Farenheit, transforme e\n",
    "mostre a temperatura em graus Celsius. C = (5 * (F-32) / 9)."
   ]
  },
  {
   "cell_type": "code",
   "execution_count": 21,
   "metadata": {},
   "outputs": [
    {
     "name": "stdout",
     "output_type": "stream",
     "text": [
      "Digite a temperatura em Farenheit:\n",
      "80\n",
      "A temperatura em Celsius é: 26.666666666666668\n"
     ]
    }
   ],
   "source": [
    "print('Digite a temperatura em Farenheit:')\n",
    "\n",
    "farenheit = float(input())\n",
    "\n",
    "celsius = (5*(farenheit-32)/9)\n",
    "\n",
    "print('A temperatura em Celsius é: {}'.format(celsius))"
   ]
  },
  {
   "cell_type": "markdown",
   "metadata": {},
   "source": [
    "**5** Faça um Programa que peça a temperatura em graus Celsius, transforme e mostre\n",
    "em graus Farenheit."
   ]
  },
  {
   "cell_type": "code",
   "execution_count": 22,
   "metadata": {},
   "outputs": [
    {
     "name": "stdout",
     "output_type": "stream",
     "text": [
      "Digite a temperatura em Celsius: \n",
      "30\n",
      "A temperatura em Farenheit é: 86.0\n"
     ]
    }
   ],
   "source": [
    "print(\"Digite a temperatura em Celsius: \")\n",
    "\n",
    "celsius = float(input())\n",
    "\n",
    "coeficiente = 9.0/5.0 \n",
    "\n",
    "farenheit = celsius * coeficiente + 32\n",
    "\n",
    "print('A temperatura em Farenheit é: '+ str(farenheit))"
   ]
  },
  {
   "cell_type": "markdown",
   "metadata": {},
   "source": [
    "**6** Faça um Programa que peça 2 números inteiros e um número real. Calcule e mostre:\n",
    "- o produto do dobro do primeiro com metade do segundo .\n",
    "- a soma do triplo do primeiro com o terceiro.\n",
    "- o terceiro elevado ao cubo."
   ]
  },
  {
   "cell_type": "code",
   "execution_count": 27,
   "metadata": {},
   "outputs": [
    {
     "name": "stdout",
     "output_type": "stream",
     "text": [
      "Digite o primeiro numero inteiro:\n",
      "3\n",
      "Digite o segundo número inteiro:\n",
      "4\n",
      "Digite o número real:\n",
      "2\n",
      "O produto do dobro do primeiro com metade do segundo: 8.0\n",
      "A soma do triplo do primeiro com o terceiro: 11.0\n",
      "O terceiro elevado ao cubo: 8.0\n"
     ]
    }
   ],
   "source": [
    "print('Digite o primeiro numero inteiro:')\n",
    "primeiro = int(input())\n",
    "\n",
    "print('Digite o segundo número inteiro:')\n",
    "segundo = int(input())\n",
    "\n",
    "print('Digite o número real:')\n",
    "real = float(input())\n",
    "\n",
    "print('O produto do dobro do primeiro com metade do segundo: {}'.format(primeiro*2 + (segundo/2)))\n",
    "\n",
    "print('A soma do triplo do primeiro com o terceiro: {}'.format(float(primeiro*3) + real))\n",
    "\n",
    "print('O terceiro elevado ao cubo: {}'.format(real**3))"
   ]
  },
  {
   "cell_type": "markdown",
   "metadata": {},
   "source": [
    "**7** João Papo-de-Pescador, homem de bem, comprou um microcomputador para\n",
    "controlar o rendimento diário de seu trabalho. Toda vez que ele traz um peso de\n",
    "peixes maior que o estabelecido pelo regulamento de pesca do estado de São Paulo\n",
    "(50 quilos) deve pagar uma multa de R$ 4,00 por quilo excedente. João precisa que\n",
    "você faça um programa que leia a variável peso (peso de peixes) e verifique se há\n",
    "excesso. Se houver, gravar na variável excesso e na variável multa o valor da multa\n",
    "que João deverá pagar. Caso contrário mostrar tais variáveis com o conteúdo ZERO."
   ]
  },
  {
   "cell_type": "code",
   "execution_count": 41,
   "metadata": {},
   "outputs": [
    {
     "name": "stdout",
     "output_type": "stream",
     "text": [
      "Digite o peso dos peixes:\n",
      "52\n",
      "Joãozinho, você excedeu 2.0kg e deve pagar R$8.0 de multa\n"
     ]
    }
   ],
   "source": [
    "print('Digite o peso dos peixes:')\n",
    "\n",
    "peso_total = float(input())\n",
    "\n",
    "if(peso_total > 50):\n",
    "    excesso = peso_total - 50\n",
    "    multa = excesso * 4\n",
    "    print('Joãozinho, você excedeu {}kg e deve pagar R${} de multa'.format(excesso, multa))\n",
    "else:\n",
    "    print('Joãozinho, você não precisa pagar nada, meu bom')"
   ]
  },
  {
   "cell_type": "markdown",
   "metadata": {},
   "source": [
    "**8** Faça um Programa que pergunte quanto você ganha por hora e o número de horas\n",
    "trabalhadas no mês. Calcule e mostre o total do seu salário no referido mês,\n",
    "sabendo-se que são descontados 11% para o Imposto de Renda, 8% para o INSS e 5%\n",
    "para o sindicato, faça um programa que nos dê:\n",
    "- salário bruto.\n",
    "- quanto pagou ao INSS.\n",
    "- quanto pagou ao sindicato.\n",
    "- o salário líquido.\n",
    "- calcule os descontos e o salário líquido, conforme a tabela abaixo:\n",
    " + Salário Bruto : R$\n",
    " - IR (11%) : R$\n",
    " - INSS (8%) : R$\n",
    " - Sindicato ( 5%) : R$\n",
    " = Salário Liquido : R$\n",
    "Obs.: Salário Bruto - Descontos = Salário Líquido."
   ]
  },
  {
   "cell_type": "code",
   "execution_count": 44,
   "metadata": {},
   "outputs": [
    {
     "name": "stdout",
     "output_type": "stream",
     "text": [
      "Digite quanto você recebe por hora\n",
      "100\n",
      "Digite quantas horas voê trabalha por mês\n",
      "50\n",
      "Salário bruto: 5000.0\n",
      "Quanto pagou ao INSS: 400.0\n",
      "Quanto pagou ao IR: 550.0\n",
      "Quanto pagou ao Sindicato: 250.0\n",
      "Salário Liquido: 3800.0\n"
     ]
    }
   ],
   "source": [
    "print('Digite quanto você recebe por hora')\n",
    "\n",
    "preco_hora = float(input())\n",
    "\n",
    "print('Digite quantas horas voê trabalha por mês')\n",
    "\n",
    "hora = float(input())\n",
    "\n",
    "salario_bruto = preco_hora*hora\n",
    "print('Salário bruto: ' + str(salario_bruto))\n",
    "\n",
    "inss =  salario_bruto * 0.08\n",
    "print('Quanto pagou ao INSS: ' + str(inss))\n",
    "\n",
    "ir = salario_bruto * 0.11\n",
    "print('Quanto pagou ao IR: ' + str(ir))\n",
    "\n",
    "sindicato = salario_bruto * 0.05\n",
    "print('Quanto pagou ao Sindicato: ' + str(sindicato))\n",
    "\n",
    "salario_liquido = salario_bruto - inss - ir - sindicato\n",
    "print('Salário Liquido: ' + str(salario_liquido))\n",
    "\n",
    "\n"
   ]
  },
  {
   "cell_type": "markdown",
   "metadata": {},
   "source": [
    "**9** Faça um programa que leia 2 strings e informe o conteúdo delas seguido do seu\n",
    "comprimento. Informe também se as duas strings possuem o mesmo comprimento e\n",
    "são iguais ou diferentes no conteúdo.\n",
    "Exemplo:\n",
    "String 1: Brasil Hexa 2018\n",
    "String 2: Brasil! Hexa 2018!\n",
    "Tamanho de \"Brasil Hexa 2018\": 16 caracteres\n",
    "Tamanho de \"Brasil! Hexa 2018!\": 18 caracteres\n",
    "As duas strings são de tamanhos diferentes.\n",
    "As duas strings possuem conteúdo diferente."
   ]
  },
  {
   "cell_type": "code",
   "execution_count": 52,
   "metadata": {},
   "outputs": [
    {
     "name": "stdout",
     "output_type": "stream",
     "text": [
      "Insitra a primeira String\n",
      "Vamoooo\n",
      "Insitra a segunda String\n",
      "Caralho\n",
      "Conteúdo da primeira String: \"Vamoooo\". Comprimeiro: 7\n",
      "Conteúdo da segunda String: \"Caralho\". Comprimeiro: 7\n",
      "As Strings possuem o mesmo tamanho!!\n"
     ]
    }
   ],
   "source": [
    "print('Insitra a primeira String')\n",
    "string_um = input()\n",
    "\n",
    "print('Insira a segunda String')\n",
    "string_dois = input()\n",
    "\n",
    "print('Conteúdo da primeira String: \"{}\". Comprimeiro: {}'.format(string_um, len(string_um)))\n",
    "print('Conteúdo da segunda String: \"{}\". Comprimeiro: {}'.format(string_dois, len(string_dois)))\n",
    "\n",
    "if(string_um == string_dois):\n",
    "    print('As String são iguais!!!')\n",
    "\n",
    "if(len(string_um) == len(string_dois)):\n",
    "    print('As Strings possuem o mesmo tamanho!!')\n"
   ]
  },
  {
   "cell_type": "markdown",
   "metadata": {},
   "source": [
    "**10** Faça um programa que permita ao usuário digitar o seu nome e em seguida\n",
    "mostre o nome do usuário de trás para frente utilizando somente letras maiúsculas.\n",
    "Dica: lembre−se que ao informar o nome o usuário pode digitar letras maiúsculas ou\n",
    "minúsculas. Observação: não use loops."
   ]
  },
  {
   "cell_type": "code",
   "execution_count": 5,
   "metadata": {},
   "outputs": [
    {
     "name": "stdout",
     "output_type": "stream",
     "text": [
      "Digite seu nome:\n",
      "Digite seu nomeLuiz\n",
      "ZIUL\n"
     ]
    }
   ],
   "source": [
    "print('Digite seu nome:')\n",
    "name = str(input(\"Digite seu nome\")).upper()\n",
    "print(name[::-1])"
   ]
  },
  {
   "cell_type": "markdown",
   "metadata": {},
   "source": [
    "**11** Faça um programa que solicite a data de nascimento (dd/mm/aaaa) do usuário e\n",
    "imprima a data com o nome do mês por extenso.\n",
    "Data de Nascimento: 29/10/1973\n",
    "Você nasceu em 29 de Outubro de 1973.\n",
    "Obs.: Não use desvio condicional nem loops.\n"
   ]
  },
  {
   "cell_type": "code",
   "execution_count": 9,
   "metadata": {},
   "outputs": [
    {
     "name": "stdout",
     "output_type": "stream",
     "text": [
      "Digite sua data de nascmimento:\n",
      "2/12/1997\n",
      "Voce nasceu dia 2 de dezembro de 1997\n"
     ]
    }
   ],
   "source": [
    "print('Digite sua data de nascmimento:')\n",
    "data_nascimento = input()\n",
    "\n",
    "dicionario = {1:'Janeiro',2:'Fevereiro',3:'março',4:'abril',5:'maio',6:'junho',7:'julho',8:'agosto',\n",
    "              9:'setembro',10:'outubro',11:'novembro',12:'dezembro'}\n",
    "\n",
    "nasciemento_list = data_nascimento.split()\n",
    "\n",
    "print (\"Voce nasceu dia {} de {} de {}\".format(nascimento_list[0], dicionario[int(nascimento_list[1])],nascimento_list[2]))"
   ]
  },
  {
   "cell_type": "markdown",
   "metadata": {},
   "source": [
    "**12** Leet é uma forma de se escrever o alfabeto latino usando outros símbolos em\n",
    "lugar das letras, como números por exemplo. A própria palavra leet admite muitas\n",
    "variações, como l33t ou 1337. O uso do leet reflete uma subcultura relacionada ao\n",
    "mundo dos jogos de computador e internet, sendo muito usada para confundir os\n",
    "iniciantes e afirmar-se como parte de um grupo. Pesquise sobre as principais formas\n",
    "de traduzir as letras. Depois, faça um programa que peça uma texto e transforme-o\n",
    "para a grafia leet speak.\n",
    "\n",
    "Desafio: não use loops nem desvios condicionais."
   ]
  },
  {
   "cell_type": "code",
   "execution_count": null,
   "metadata": {},
   "outputs": [],
   "source": [
    "print('Insira a palavra a ser traduzida para Leet: ')\n",
    "\n",
    "palavra = input().upper()\n",
    "\n",
    "leet = {'A': '4','B':'8','C':'(','D':')','E':'3','F':'|=','G':'6','H':'#','I':'1','J':'|','K':'|<','L':'|_','M':'|\\/|',\n",
    "        'N':'/\\/','O':'0','P':'|D','Q':'(),','R':'|2','S':'$','T':'7','U':'|_|','V':'\\/ ','W':'\\/\\/','X':'><',\n",
    "        'Y':'¥','Z':'2'}"
   ]
  },
  {
   "cell_type": "markdown",
   "metadata": {},
   "source": [
    "**13** Crie um programa que recebe uma lista de números e\n",
    "- retorne o maior elemento\n",
    "- retorne a soma dos elementos\n",
    "- retorne o número de ocorrências do primeiro elemento da lista\n",
    "- retorne a média dos elementos\n",
    "- retorne o valor mais próximo da média dos elementos\n",
    "- retorne a soma dos elementos com valor negativo\n",
    "- retorne a quantidade de vizinhos iguais"
   ]
  },
  {
   "cell_type": "code",
   "execution_count": 10,
   "metadata": {},
   "outputs": [
    {
     "name": "stdout",
     "output_type": "stream",
     "text": [
      "soma dos elementos\n",
      "26\n",
      "a média dos elementos\n",
      "6.5\n"
     ]
    }
   ],
   "source": [
    "lista = [5,4,9,8]\n",
    "\n",
    "print('Soma dos elementos')\n",
    "print(sum(lista))\n",
    "\n",
    "print('A média dos elementos')\n",
    "print(sum(lista) / len(lista))"
   ]
  },
  {
   "cell_type": "markdown",
   "metadata": {},
   "source": [
    "**14** Faça um programa que receba duas listas e retorne True se são iguais ou False\n",
    "caso contrario.\n",
    "\n",
    "Duas listas são iguais se possuem os mesmos valores e na mesma ordem."
   ]
  },
  {
   "cell_type": "code",
   "execution_count": 26,
   "metadata": {},
   "outputs": [
    {
     "name": "stdout",
     "output_type": "stream",
     "text": [
      "True\n"
     ]
    }
   ],
   "source": [
    "def check_iguais(lista1, lista2):\n",
    "    if lista1 == lista2:\n",
    "        return True\n",
    "    else:\n",
    "        return False\n",
    "\n",
    "listaUm =   [2, 3, 8, 16]\n",
    "listaDois = [2, 3, 8, 16]\n",
    "\n",
    "print(check_iguais(listaUm, listaDois))"
   ]
  },
  {
   "cell_type": "markdown",
   "metadata": {},
   "source": [
    "**15** Faça um programa que receba duas listas e retorne True se têm os mesmos\n",
    "elementos ou False caso contrário\n",
    "Duas listas possuem os mesmos elementos quando são compostas pelos mesmos\n",
    "valores, mas não obrigatoriamente na mesma ordem."
   ]
  },
  {
   "cell_type": "code",
   "execution_count": 36,
   "metadata": {},
   "outputs": [
    {
     "name": "stdout",
     "output_type": "stream",
     "text": [
      "True\n"
     ]
    }
   ],
   "source": [
    "def check_iguais(lista1, lista2):\n",
    "    \n",
    "    lista1.sort()\n",
    "    lista2.sort()\n",
    "    \n",
    "    if lista1 == lista2:\n",
    "        return True\n",
    "    else:\n",
    "        return False\n",
    "\n",
    "listaUm =   [3, 2, 16, 8]\n",
    "listaDois = [2, 3, 8, 16]\n",
    "\n",
    "print(check_iguais(listaUm, listaDois))"
   ]
  },
  {
   "cell_type": "markdown",
   "metadata": {},
   "source": [
    "**16** Faça um programa que percorre uma lista com o seguinte formato: [['Brasil',\n",
    "'Italia', [10, 9]], ['Brasil', 'Espanha', [5, 7]], ['Italia', 'Espanha', [7,8]]]. \n",
    "\n",
    "Essa lista indica o número de faltas que cada time fez em cada jogo. \n",
    "\n",
    "Na lista acima, no jogo entre Brasil e Itália, o Brasil fez 10 faltas e a Itália fez 9.\n",
    "\n",
    "O programa deve imprimir na tela:\n",
    "- o total de faltas do campeonato\n",
    "- o time que fez mais faltas\n",
    "- o time que fez menos faltas"
   ]
  },
  {
   "cell_type": "code",
   "execution_count": 38,
   "metadata": {},
   "outputs": [
    {
     "name": "stdout",
     "output_type": "stream",
     "text": [
      "Total de faltas: 46\n",
      "País mais faltoso: ['Italia', 16]\n",
      "País menos faltoso: ['Brasil', 15]\n"
     ]
    }
   ],
   "source": [
    "faltas = [['Brasil', 'Italia' ,[10,9]],\n",
    "          ['Brasil', 'Espanha',[5,7]],\n",
    "          ['Italia', 'Espanha',[7,8]]]\n",
    "\n",
    "print('Total de faltas:', faltas[0][2][0]+faltas[0][2][1]+\n",
    "faltas[1][2][0]+faltas[1][2][1]+\n",
    "faltas[2][2][0]+faltas[2][2][1])\n",
    "\n",
    "pais = [['Brasil',faltas[0][2][0]+faltas[1][2][0]],\n",
    "        ['Italia',faltas[0][2][1]+faltas[2][2][0]],\n",
    "        ['Espanha', faltas[1][2][1]+faltas[2][2][1]]]\n",
    "\n",
    "print('País mais faltoso:', max(pais))\n",
    "\n",
    "print('País menos faltoso:', min(pais))"
   ]
  },
  {
   "cell_type": "markdown",
   "metadata": {},
   "source": [
    "**17** Escreva um programa que conta a quantidade de vogais em uma string e\n",
    "armazena tal quantidade em um dicionário, onde a chave é a vogal considerada."
   ]
  },
  {
   "cell_type": "code",
   "execution_count": 42,
   "metadata": {},
   "outputs": [
    {
     "name": "stdout",
     "output_type": "stream",
     "text": [
      "{'a': 3, 'e': 2, 'i': 2, 'o': 2, 'u': 0}\n"
     ]
    }
   ],
   "source": [
    "s = 'sistemas de informacao'\n",
    "vogais = ['a', 'e', 'i', 'o', 'u']\n",
    "totais = {vogais[0]: s.count(vogais[0]),\n",
    "          vogais[1]: s.count(vogais[1]),\n",
    "          vogais[2]: s.count(vogais[2]),\n",
    "          vogais[3]: s.count(vogais[3]),\n",
    "          vogais[4]: s.count(vogais[4])}\n",
    "print(totais)"
   ]
  },
  {
   "cell_type": "markdown",
   "metadata": {},
   "source": [
    "**18** Escreva um programa que lê duas notas de vários alunos e armazena tais notas\n",
    "em um dicionário, onde a chave é o nome do aluno. \n",
    "\n",
    "A entrada de dados deve terminar quando for lida uma string vazia como nome. \n",
    "\n",
    "Escreva uma função que retorna a média do aluno, dado seu nome."
   ]
  },
  {
   "cell_type": "code",
   "execution_count": 3,
   "metadata": {},
   "outputs": [
    {
     "name": "stdout",
     "output_type": "stream",
     "text": [
      "Insira o nome do aluno: Luiz\n",
      "insira a primera nota: 10\n",
      "insira a segunda nota: 7\n",
      "Insira o nome do aluno: Pedro\n",
      "insira a primera nota: 6\n",
      "insira a segunda nota: 9\n",
      "Insira o nome do aluno: \n",
      "Insira o nome do aluno para saber a média: Luiz\n",
      "A média do aluno Luiz é 8.5\n"
     ]
    }
   ],
   "source": [
    "question = False\n",
    "boletim = {}\n",
    "name = input('Insira o nome do aluno: ')\n",
    "\n",
    "while len(name) != 0: \n",
    "    if question:\n",
    "        name = input('Insira o nome do aluno: ')\n",
    "        if len(name) == 0:\n",
    "            break\n",
    "    num1 = int(input('insira a primera nota: '))\n",
    "    num2 = int(input('insira a segunda nota: '))\n",
    "    boletim[name]=[num1,num2]\n",
    "    if not question:\n",
    "        question = True\n",
    "        \n",
    "name = input('Insira o nome do aluno para saber a média: ')\n",
    "\n",
    "def mediaPorNome(arg):\n",
    "    notas = boletim.get(arg)\n",
    "    print('A média do aluno '+arg+' é '+str(sum(notas)/len(notas)))\n",
    "    \n",
    "mediaPorNome(name)"
   ]
  },
  {
   "cell_type": "markdown",
   "metadata": {},
   "source": [
    "**19** Uma pista de Kart permite 10 voltas para cada um de 6 corredores. Escreva um\n",
    "programa que leia todos os tempos em segundos e os guarde em um dicionário,\n",
    "onde a chave é o nome do corredor. Ao final diga de quem foi a melhor volta da\n",
    "prova e em que volta; e ainda a classificação final em ordem (1o o campeão). O\n",
    "campeão é o que tem a menor média de tempos."
   ]
  },
  {
   "cell_type": "code",
   "execution_count": 1,
   "metadata": {},
   "outputs": [
    {
     "name": "stdout",
     "output_type": "stream",
     "text": [
      "Nome do 1 corredor: Luizão\n",
      "digite o 1 tempo do corredor Luizão em segundos: 43\n",
      "digite o 2 tempo do corredor Luizão em segundos: 23\n",
      "digite o 3 tempo do corredor Luizão em segundos: 54\n",
      "digite o 4 tempo do corredor Luizão em segundos: 64\n",
      "digite o 5 tempo do corredor Luizão em segundos: 25\n",
      "digite o 6 tempo do corredor Luizão em segundos: 2\n",
      "Nome do 2 corredor: Loser\n",
      "digite o 1 tempo do corredor Loser em segundos: 34234\n",
      "digite o 2 tempo do corredor Loser em segundos: 232\n",
      "digite o 3 tempo do corredor Loser em segundos: 12334\n",
      "digite o 4 tempo do corredor Loser em segundos: 242\n",
      "digite o 5 tempo do corredor Loser em segundos: 234\n",
      "digite o 6 tempo do corredor Loser em segundos: 243\n",
      "Nome do 3 corredor: El Perdedor \n",
      "digite o 1 tempo do corredor El Perdedor  em segundos: 9202\n",
      "digite o 2 tempo do corredor El Perdedor  em segundos: 7382\n",
      "digite o 3 tempo do corredor El Perdedor  em segundos: 1284\n",
      "digite o 4 tempo do corredor El Perdedor  em segundos: 3828\n",
      "digite o 5 tempo do corredor El Perdedor  em segundos: 234324\n",
      "digite o 6 tempo do corredor El Perdedor  em segundos: 36546\n",
      "Nome do 4 corredor: Rubens\n",
      "digite o 1 tempo do corredor Rubens em segundos: 23213\n",
      "digite o 2 tempo do corredor Rubens em segundos: 144234\n",
      "digite o 3 tempo do corredor Rubens em segundos: 36546\n",
      "digite o 4 tempo do corredor Rubens em segundos: 74765\n",
      "digite o 5 tempo do corredor Rubens em segundos: 64654334\n",
      "digite o 6 tempo do corredor Rubens em segundos: 45747\n",
      "Nome do 5 corredor: Mário\n",
      "digite o 1 tempo do corredor Mário em segundos: 89372984273\n",
      "digite o 2 tempo do corredor Mário em segundos: 362943\n",
      "digite o 3 tempo do corredor Mário em segundos: 987291\n",
      "digite o 4 tempo do corredor Mário em segundos: 3246234\n",
      "digite o 5 tempo do corredor Mário em segundos: 2874687324\n",
      "digite o 6 tempo do corredor Mário em segundos: 94263487623\n",
      "Nome do 6 corredor: De Saco Cheio\n",
      "digite o 1 tempo do corredor De Saco Cheio em segundos: 236432423\n",
      "digite o 2 tempo do corredor De Saco Cheio em segundos: 46435\n",
      "digite o 3 tempo do corredor De Saco Cheio em segundos: 1321232\n",
      "digite o 4 tempo do corredor De Saco Cheio em segundos: 363643\n",
      "digite o 5 tempo do corredor De Saco Cheio em segundos: 2432432\n",
      "digite o 6 tempo do corredor De Saco Cheio em segundos: 574456\n",
      "Melhor volta da prova foi de Luizão, tempo de 2.0 na volta 6\n",
      "Classificação: \n",
      "1 colocado: Luizão com média de: 35.166666666666664\n",
      "2 colocado: Loser com média de: 7919.833333333333\n",
      "3 colocado: El Perdedor  com média de: 48761.0\n",
      "4 colocado: Rubens com média de: 10829806.5\n",
      "5 colocado: De Saco Cheio com média de: 40195103.5\n",
      "6 colocado: Mário com média de: 31085959281.333332\n"
     ]
    }
   ],
   "source": [
    "race = {}\n",
    "bestTurns = {}\n",
    "for i in range(6):\n",
    "    times = []\n",
    "    name = input('Nome do '+str(i+1)+' corredor: ')\n",
    "    for j in range(6):\n",
    "        times.append(float(input('digite o '+str(j+1)+' tempo do corredor '+name+' em segundos: ')))\n",
    "    race[name]=times\n",
    "    \n",
    "for i,k in enumerate(race.keys()):\n",
    "    bestTurns[k]=[min(race.get(k)), race.get(k).index(min(race.get(k)))+1]\n",
    "\n",
    "bestTurnsNoIndex = {}\n",
    "lista = []\n",
    "for k,v in bestTurns.items():\n",
    "    bestTurnsNoIndex[v[0]]=k\n",
    "    lista.append(v[0])\n",
    "\n",
    "lista.sort()\n",
    "print('Melhor volta da prova foi de '+bestTurnsNoIndex.get(lista[0])+\\\n",
    "      ', tempo de '+str(bestTurns.get(bestTurnsNoIndex.get(lista[0]))[0])+' na volta '+\\\n",
    "      str(bestTurns.get(bestTurnsNoIndex.get(lista[0]))[1]))\n",
    "\n",
    "listaDeClassificacao = []\n",
    "classificacaoMap = {}\n",
    "for k,v in race.items():\n",
    "    media = sum(v)/len(v)\n",
    "    listaDeClassificacao.append(media)\n",
    "    classificacaoMap[media]=k\n",
    "    \n",
    "listaDeClassificacao.sort()\n",
    "    \n",
    "print('Classificação: ')\n",
    "for i, v in enumerate(listaDeClassificacao):\n",
    "    print(str(i+1)+ ' colocado: '+classificacaoMap.get(v)+' com média de: '+str(v))\n",
    "\n"
   ]
  },
  {
   "cell_type": "markdown",
   "metadata": {},
   "source": [
    "**21** Faça um programa que leia um arquivo texto contendo uma lista de endereços IP\n",
    "e gere um outro arquivo, contendo um relatório dos endereços IP válidos e inválidos.\n",
    "O arquivo de entrada possui o seguinte formato:\n",
    "\n",
    "200.135.80.9\n",
    "192.168.1.1\n",
    "8.35.67.74\n",
    "257.32.4.5\n",
    "85.345.1.2\n",
    "1.2.3.4\n",
    "9.8.234.5\n",
    "192.168.0.256\n",
    "\n",
    "O arquivo de saída possui o seguinte formato:\n",
    "[Endereços válidos:]\n",
    "200.135.80.9\n",
    "192.168.1.1\n",
    "8.35.67.74\n",
    "1.2.3.4\n",
    "[Endereços inválidos:]\n",
    "257.32.4.5\n",
    "85.345.1.2\n",
    "9.8.234.5\n",
    "192.168.0.256"
   ]
  },
  {
   "cell_type": "code",
   "execution_count": 6,
   "metadata": {},
   "outputs": [
    {
     "name": "stdout",
     "output_type": "stream",
     "text": [
      "Validos:\n",
      "192.168.0.256\n",
      "192.168.0.256\n",
      "192.168.0.256\n",
      "192.168.0.256\n",
      "192.168.0.256\n",
      "\n",
      "Invalidos:\n",
      "192.168.0.256\n",
      "192.168.0.256\n",
      "192.168.0.256\n"
     ]
    }
   ],
   "source": [
    "valido = list()\n",
    "invalido = list()\n",
    "for ip in open('file.txt', 'r'):\n",
    "    list_ip = ip.split('.')\n",
    "    list_ip = list(map(int, list_ip))\n",
    "    if len(list_ip) != 4:\n",
    "        invalido.append(list_ip)\n",
    "    else:\n",
    "        for i in list_ip:\n",
    "            if i < 0 or i > 255:\n",
    "                invalido.append(l_ip)\n",
    "                break\n",
    "        else:\n",
    "            valido.append(l_ip)\n",
    "print('Validos:')\n",
    "for i in valido:\n",
    "    print(f'{i[0]}.{i[1]}.{i[2]}.{i[3]}')\n",
    "print('\\nInvalidos:')\n",
    "for i in invalido:\n",
    "    print(f'{i[0]}.{i[1]}.{i[2]}.{i[3]}')"
   ]
  }
 ],
 "metadata": {
  "kernelspec": {
   "display_name": "Python 3",
   "language": "python",
   "name": "python3"
  },
  "language_info": {
   "codemirror_mode": {
    "name": "ipython",
    "version": 3
   },
   "file_extension": ".py",
   "mimetype": "text/x-python",
   "name": "python",
   "nbconvert_exporter": "python",
   "pygments_lexer": "ipython3",
   "version": "3.7.3"
  }
 },
 "nbformat": 4,
 "nbformat_minor": 2
}
