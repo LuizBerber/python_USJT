{
 "cells": [
  {
   "cell_type": "markdown",
   "metadata": {},
   "source": [
    "### Exercício 10\n",
    "**Nome**: Luiz Fernando Ferreira Berber <br>\n",
    "**RA**: 817123421"
   ]
  },
  {
   "cell_type": "markdown",
   "metadata": {},
   "source": [
    "**1.** Faça um Programa que peça dois números e imprima o maior deles."
   ]
  },
  {
   "cell_type": "code",
   "execution_count": 2,
   "metadata": {},
   "outputs": [
    {
     "name": "stdout",
     "output_type": "stream",
     "text": [
      "Insira o primeiro número: 2\n",
      "insira o segundo número: 1\n",
      "2\n"
     ]
    }
   ],
   "source": [
    "num1 = int(input('Insira o primeiro número: '))\n",
    "num2 = int(input('insira o segundo número: '))\n",
    "\n",
    "if num1 > num2:\n",
    "    print(num1)\n",
    "else:\n",
    "    print(num2)\n"
   ]
  },
  {
   "cell_type": "markdown",
   "metadata": {},
   "source": [
    "**2.** Faça um Programa que verifique se uma letra digitada é vogal ou consoante."
   ]
  },
  {
   "cell_type": "code",
   "execution_count": 5,
   "metadata": {},
   "outputs": [
    {
     "name": "stdout",
     "output_type": "stream",
     "text": [
      "Digite uma letra: e\n",
      "A letra é uma vogal!\n"
     ]
    }
   ],
   "source": [
    "vogal = ['a', 'e', 'i', 'o', 'u']\n",
    "\n",
    "letra = str(input('Digite uma letra: '))\n",
    "\n",
    "if letra in vogal:\n",
    "    print('A letra é uma vogal!')\n",
    "else:\n",
    "    print('A leta é uma consoante!')"
   ]
  },
  {
   "cell_type": "markdown",
   "metadata": {},
   "source": [
    "**3.** Faça um programa para a leitura de duas notas parciais de um aluno. O programa\n",
    "deve calcular a média alcançada por aluno e apresentar:\n",
    "- A mensagem \"Aprovado\", se a média alcançada for maior ou igual a sete;\n",
    "- A mensagem \"Reprovado\", se a média for menor do que sete;\n",
    "- A mensagem \"Aprovado com Distinção\", se a média for igual a dez."
   ]
  },
  {
   "cell_type": "code",
   "execution_count": 13,
   "metadata": {},
   "outputs": [
    {
     "name": "stdout",
     "output_type": "stream",
     "text": [
      "Digite a nota 1: 10\n",
      "Digite a nota 2: 10\n",
      "Aprovado com Distinção!\n"
     ]
    }
   ],
   "source": [
    "nota1 = int(input('Digite a nota 1: '))\n",
    "nota2 = int(input('Digite a nota 2: '))\n",
    "\n",
    "media = (nota1 + nota2) / 2\n",
    "\n",
    "if media >= 7 and media <10:\n",
    "    print('Aprovado!')\n",
    "elif media < 7:\n",
    "    print('Reprovado :(')\n",
    "else:\n",
    "    print('Aprovado com Distinção!')"
   ]
  },
  {
   "cell_type": "markdown",
   "metadata": {},
   "source": [
    "**4.** Faça um Programa que leia três números e mostre-os em ordem decrescente"
   ]
  },
  {
   "cell_type": "code",
   "execution_count": 9,
   "metadata": {},
   "outputs": [
    {
     "name": "stdout",
     "output_type": "stream",
     "text": [
      "Digite o primeiro: 10\n",
      "Digite o segundo: 11\n",
      "Digite o segundo: 15\n",
      "15\n",
      "11\n",
      "10\n"
     ]
    }
   ],
   "source": [
    "lista = [int(input('Digite o primeiro: ')), int(input('Digite o segundo: ')), int(input('Digite o segundo: '))]\n",
    "\n",
    "lista.sort()\n",
    "\n",
    "cont = len(lista)\n",
    "\n",
    "while cont > 0:\n",
    "    \n",
    "    print(lista[cont-1])\n",
    "    \n",
    "    cont-= 1\n"
   ]
  },
  {
   "cell_type": "markdown",
   "metadata": {},
   "source": [
    "**5.** As Organizações Tabajara resolveram dar um aumento de salário aos seus\n",
    "colaboradores e lhe contrataram para desenvolver o programa que calculará os\n",
    "reajustes.\n",
    "Faça um programa que recebe o salário de um colaborador e o reajuste segundo o\n",
    "seguinte critério, baseado no salário atual:\n",
    "- salários até R$ 280,00 (incluindo) : aumento de 20%\n",
    "- salários entre R$ 280,00 e R$ 700,00 : aumento de 15%\n",
    "- salários entre R$ 700,00 e R$ 1500,00 : aumento de 10%\n",
    "- salários de R$ 1500,00 em diante : aumento de 5% Após o aumento ser realizado,\n",
    "informe na tela:\n",
    "- o salário antes do reajuste;\n",
    "- o percentual de aumento aplicado;\n",
    "- o valor do aumento;\n",
    "- o novo salário, após o aumento."
   ]
  },
  {
   "cell_type": "code",
   "execution_count": 11,
   "metadata": {},
   "outputs": [
    {
     "name": "stdout",
     "output_type": "stream",
     "text": [
      "Digite o salário: 600\n",
      "Salário anterior: 600. Aumento: 120.0 Salário Atual: 720.0 Aumento de: 20%\n"
     ]
    }
   ],
   "source": [
    "salario = int(input('Digite o salário: '))\n",
    "\n",
    "aumento = 0\n",
    "salario_total = 0\n",
    "percentual = \"\"\n",
    "\n",
    "if salario <= 280:\n",
    "    aumento = salario*0.20\n",
    "    salario_total = salario + aumento\n",
    "    percentual = \"20%\"\n",
    "elif salario > 280 and salario <= 700:\n",
    "    aumento = salario*0.20\n",
    "    salario_total = salario + aumento\n",
    "    percentual = \"20%\"\n",
    "elif salario > 700 and salario <= 1500:\n",
    "    aumento = salario*0.10\n",
    "    salario_total = salario + aumento\n",
    "    percentual = \"10%\"\n",
    "elif salario > 1500:\n",
    "    aumento = salario*0.05\n",
    "    salario_total = salario + aumento\n",
    "    percentual = \"5%\"\n",
    "\n",
    "print(f\"Salário anterior: {salario}. Aumento: {aumento} Salário Atual: {salario_total} Aumento de: {percentual}\")"
   ]
  },
  {
   "cell_type": "markdown",
   "metadata": {},
   "source": [
    "**6.** Faça um Programa que leia um número e exiba o dia correspondente da semana.\n",
    "(1-Domingo, 2- Segunda, etc.), se digitar outro valor deve aparecer valor inválido."
   ]
  },
  {
   "cell_type": "code",
   "execution_count": 2,
   "metadata": {},
   "outputs": [
    {
     "name": "stdout",
     "output_type": "stream",
     "text": [
      "Digite o número: 7\n",
      "Sábado\n"
     ]
    }
   ],
   "source": [
    "numero = int(input('Digite o número: '))\n",
    "\n",
    "dia = ['Domingo', 'Segunda', 'Terça', 'Quarta', 'Quinta', 'Sexta', 'Sábado']\n",
    "\n",
    "if numero <= 7 and numero >= 1:\n",
    "    print(dia[numero - 1])\n",
    "else:\n",
    "    print('Número inválido')"
   ]
  },
  {
   "cell_type": "markdown",
   "metadata": {},
   "source": [
    "**7.** Faça um programa que lê as duas notas parciais obtidas por um aluno numa\n",
    "disciplina ao longo de um semestre, e calcule a sua média. A atribuição de conceitos\n",
    "obedece à tabela abaixo:\n",
    " Média de Aproveitamento Conceito\n",
    " Entre 9.0 e 10.0 A\n",
    " Entre 7.5 e 9.0 B\n",
    " Entre 6.0 e 7.5 C\n",
    " Entre 4.0 e 6.0 D\n",
    " Entre 4.0 e zero E\n",
    "O algoritmo deve mostrar na tela as notas, a média, o conceito correspondente e a\n",
    "mensagem “APROVADO” se o conceito for A, B ou C ou “REPROVADO” se o conceito\n",
    "for D ou E."
   ]
  },
  {
   "cell_type": "code",
   "execution_count": 32,
   "metadata": {},
   "outputs": [
    {
     "name": "stdout",
     "output_type": "stream",
     "text": [
      "Digite a primeira nota: 10\n",
      "Digite a segunda nota: 9\n",
      "A nota da primeira prova:  10\n",
      "A nota da segunda prova:  9\n",
      "Você tirou um A!\n",
      "Sua media é de:  9.5\n",
      "você foi aprovado!!\n"
     ]
    }
   ],
   "source": [
    "nota1 = int(input(\"Digite a primeira nota: \"))\n",
    "nota2 = int(input(\"Digite a segunda nota: \"))\n",
    "\n",
    "print( \"A nota da primeira prova: \", nota1)\n",
    "print( \"A nota da segunda prova: \", nota2)\n",
    "\n",
    "media = (nota1 + nota2)/2\n",
    "\n",
    "if media >= 9 and media <= 10:\n",
    "    print( \"Você tirou um A!\")\n",
    "    print( \"Sua media é de: \", media)\n",
    "    print( \"você foi aprovado!!\")\n",
    "\n",
    "elif media >= 7.5 and media < 9:\n",
    "    print( \"Você tirou um B!\")\n",
    "    print( \"Sua media é de: \", media)\n",
    "    print( \"você foi aprovado!!\")\n",
    "\n",
    "elif media >= 6.5 and media < 7.5:\n",
    "    print( \"Você tirou um C!\")\n",
    "    print( \"Sua media é de: \", media)\n",
    "    print( \"você foi aprovado!!\")\n",
    "\n",
    "elif media >= 4 and media < 6:\n",
    "    print( \"Você tirou um D!\")\n",
    "    print( \"Sua media é de: \", media)\n",
    "    print( \"você foi reprovado!!\")\n",
    "\n",
    "elif media < 4:\n",
    "    print( \"Você tirou um E!\")\n",
    "    print( \"Sua media é de: \", media)\n",
    "    print( \"você foi reprovado!!\")"
   ]
  },
  {
   "cell_type": "markdown",
   "metadata": {},
   "source": [
    "**8.** Faça um Programa que peça os 3 lados de um triângulo. O programa deverá\n",
    "informar se os valores podem ser um triângulo. Indique, caso os lados formem um\n",
    "triângulo, se o mesmo é: equilátero, isósceles ou escaleno.\n",
    "Dicas:\n",
    "- Três lados formam um triângulo quando a soma de quaisquer dois lados for maior\n",
    "que o terceiro;\n",
    "- Triângulo Equilátero: três lados iguais;\n",
    "- Triângulo Isósceles: quaisquer dois lados iguais;\n",
    "- Triângulo Escaleno: três lados diferentes;"
   ]
  },
  {
   "cell_type": "code",
   "execution_count": 7,
   "metadata": {},
   "outputs": [
    {
     "name": "stdout",
     "output_type": "stream",
     "text": [
      "insita o primeiro lado: 2\n",
      "insita o segundo lado: 3\n",
      "insita o terceiro lado: 8\n",
      "Não pode ser um triangulo\n"
     ]
    }
   ],
   "source": [
    "ladoA = int(input('insita o primeiro lado: '))\n",
    "ladoB = int(input('insita o segundo lado: '))\n",
    "ladoC = int(input('insita o terceiro lado: '))\n",
    "\n",
    "if (ladoA + ladoB) > ladoC or (ladoA + ladoC) > ladoB or (ladoB + ladoC) > ladoA:\n",
    "    print(\"Não pode ser um triangulo\")\n",
    "elif l1 == l2 or l1 == l3 or l2 == l3:\n",
    "    print(\"Isósceles\")\n",
    "elif l1 == l2 == l3:\n",
    "    print(\"Equilatero\")\n",
    "else:\n",
    "    print(\"Escaleno\")"
   ]
  },
  {
   "cell_type": "markdown",
   "metadata": {},
   "source": [
    "**9.** Faça um programa que calcule as raízes de uma equação do segundo grau, na\n",
    "forma ax2 + bx + c. O programa deverá pedir os valores de a, b e c e fazer as\n",
    "consistências, informando ao usuário nas seguintes situações:\n",
    "- Se o usuário informar o valor de A igual a zero, a equação não é do segundo grau e\n",
    "o programa não deve fazer pedir os demais valores, sendo encerrado;\n",
    "- Se o delta calculado for negativo, a equação não possui raizes reais. Informe ao\n",
    "usuário e encerre o programa;\n",
    "- Se o delta calculado for igual a zero a equação possui apenas uma raiz real;\n",
    "informe-a ao usuário;\n",
    "- Se o delta for positivo, a equação possui duas raiz reais; informe-as ao usuário;"
   ]
  },
  {
   "cell_type": "code",
   "execution_count": null,
   "metadata": {},
   "outputs": [],
   "source": [
    "a = input('insira o valor de A: ')\n",
    "\n",
    "if a != 0:\n",
    "    b = input('insira o valor de B: ')\n",
    "    x = input('insira o valor de X: ')\n",
    "    c = input('insira o valor de C: ')\n",
    "    \n",
    "    delta = (a*x*2) + (b*x) + c\n",
    "    \n",
    "    if delta < 0:\n",
    "        print('O delta {}, é negativo, a equalçao não possui raizes reais!'.format(delta))\n",
    "    elif delta == 0:\n",
    "        print('O delta, é igual a {}, logo, possui apenas uma raís'.format(delta))\n",
    "    else:\n",
    "    \n",
    "elif:\n",
    "    print('A equação não é de segundo grau, tchau!')\n",
    "\n"
   ]
  },
  {
   "cell_type": "markdown",
   "metadata": {},
   "source": [
    "**10.** Faça um Programa para um caixa eletrônico. O programa deverá perguntar ao\n",
    "usuário a valor do saque e depois informar quantas notas de cada valor serão\n",
    "fornecidas. As notas disponíveis serão as de 1, 5, 10, 50 e 100 reais. O valor mínimo é\n",
    "de 10 reais e o máximo de 600 reais. O programa não deve se preocupar com a\n",
    "quantidade de notas existentes na máquina.\n",
    "- Exemplo 1: Para sacar a quantia de 256 reais, o programa fornece duas notas de\n",
    "100, uma nota de 50, uma nota de 5 e uma nota de 1;\n",
    "- Exemplo 2: Para sacar a quantia de 399 reais, o programa fornece três notas de\n",
    "100, uma nota de 50, quatro notas de 10, uma nota de 5 e quatro notas de 1."
   ]
  },
  {
   "cell_type": "code",
   "execution_count": 35,
   "metadata": {},
   "outputs": [
    {
     "name": "stdout",
     "output_type": "stream",
     "text": [
      "Qual o valor? (validos entre 10 e 600): 567\n",
      "As notas são:  [100, 100, 100, 100, 100, 50, 10, 5, 1, 1]\n"
     ]
    }
   ],
   "source": [
    "notas = [1, 5, 10, 50, 100]\n",
    "valor = int(input('Qual o valor? (validos entre 10 e 600): '))\n",
    "\n",
    "if valor >= 10 and valor <= 600:\n",
    "    quantia = 0\n",
    "    saida = list()\n",
    "    p = 4\n",
    "    while quantia < valor and p >= 0:\n",
    "        if valor - notas[p] >= 0:\n",
    "            saida.append(notas[p])\n",
    "            valor -= notas[p]\n",
    "        else:\n",
    "            p -= 1\n",
    "    print('As notas são: ', saida)\n",
    "else:\n",
    "    print('Valor inválido.')"
   ]
  },
  {
   "cell_type": "markdown",
   "metadata": {},
   "source": [
    "**11.** Faça um programa que faça 5 perguntas para uma pessoa sobre um crime. As\n",
    "perguntas são:\n",
    "\"Telefonou para a vítima?\"\n",
    "\"Esteve no local do crime?\"\n",
    "\"Mora perto da vítima?\"\n",
    "\"Devia para a vítima?\"\n",
    "\"Já trabalhou com a vítima?\"\n",
    "O programa deve no final emitir uma classificação sobre a participação da pessoa no\n",
    "crime. Se a pessoa responder positivamente a 2 questões ela deve ser classificada\n",
    "como \"Suspeita\", entre 3 e 4 como \"Cúmplice\" e 5 como \"Assassino\". Caso contrário,\n",
    "ele será classificado como \"Inocente\"."
   ]
  },
  {
   "cell_type": "code",
   "execution_count": null,
   "metadata": {},
   "outputs": [],
   "source": [
    "interrogatorio = {\"Telefonou para a vítima?\":False,\n",
    "    \"Esteve no local do crime?\":False, \n",
    "    \"Mora perto da vítima?\":False,\n",
    "    \"Devia para a vítima?\":False,\n",
    "    \"Já trabalhou com a vítima?\":False}\n",
    "for item in interrogatorio:\n",
    "    interrogatorio[item]=input(item + 'S/N :').upper()=='S'\n",
    "respostas = (sum(interrogatorio.values()))\n",
    "\n",
    "if respostas == 0 or respostas == 1:\n",
    "    situacao = 'inocente'\n",
    "elif respostas == 2:\n",
    "    situacao = 'suspeito'\n",
    "elif respostas == 3 or respostas == 4:\n",
    "    situacao = 'cúmplice'\n",
    "elif respostas == 5:\n",
    "    situacao = 'assassino'\n",
    "    \n",
    "print(f'O investigado é {situacao}.')"
   ]
  },
  {
   "cell_type": "markdown",
   "metadata": {},
   "source": [
    "**12.** Uma fruteira está vendendo frutas com a seguinte tabela de preços:\n",
    " Até 5 Kg Acima de 5 Kg\n",
    "Morango R$ 2,50 por Kg R$ 2,20 por Kg\n",
    "Maçã R$ 1,80 por Kg R$ 1,50 por Kg\n",
    "Se o cliente comprar mais de 8 Kg em frutas ou o valor total da compra ultrapassar\n",
    "R$ 25,00, receberá ainda um desconto de 10% sobre este total. Escreva um\n",
    "algoritmo para ler a quantidade (em Kg) de morangos e a quantidade (em Kg) de\n",
    "maças adquiridas e escreva o valor a ser pago pelo cliente."
   ]
  },
  {
   "cell_type": "code",
   "execution_count": 37,
   "metadata": {},
   "outputs": [
    {
     "name": "stdout",
     "output_type": "stream",
     "text": [
      "Digite quantos kilos de morango: 10\n",
      "Digite quantos kilos de maçâ: 8\n",
      "Valor total: 30.6\n"
     ]
    }
   ],
   "source": [
    "morango = float(input('Digite quantos kilos de morango: '))\n",
    "maça = float(input('Digite quantos kilos de maçâ: '))\n",
    "\n",
    "valor_morango = 0\n",
    "valor_maça = 0\n",
    "\n",
    "if morango <= 5:\n",
    "    valor_morango = morango*2.5\n",
    "else:\n",
    "    valor_morango = morango*2.2\n",
    "    \n",
    "if maça <= 5:\n",
    "    valor_maça = maça*1.8\n",
    "else:\n",
    "    valor_maça = maça*1.5\n",
    "\n",
    "valor_total = valor_maça + valor_morango\n",
    "\n",
    "if valor_total >= 25 or morango + maça >= 8:\n",
    "    valor_total = valor_total - (valor_total*0.1)\n",
    "\n",
    "print('Valor total: {}'.format(valor_total))"
   ]
  },
  {
   "cell_type": "markdown",
   "metadata": {},
   "source": [
    "**13.** Faça um programa que peça uma nota, entre zero e dez. Mostre uma mensagem\n",
    "caso o valor seja inválido e continue pedindo até que o usuário informe um valor\n",
    "válido."
   ]
  },
  {
   "cell_type": "code",
   "execution_count": 48,
   "metadata": {},
   "outputs": [
    {
     "name": "stdout",
     "output_type": "stream",
     "text": [
      "Digite uma nota: 11\n",
      "Nota invalida\n",
      "Digite uma nota: -12\n",
      "Nota invalida\n",
      "Digite uma nota: 5\n"
     ]
    }
   ],
   "source": [
    "while True:\n",
    "    nota = int(input(\"Digite uma nota: \"))\n",
    "    \n",
    "    if nota < 0 or nota > 10:\n",
    "        print(\"Digite uma nota válida!\")\n",
    "    else:\n",
    "        break\n",
    "        "
   ]
  },
  {
   "cell_type": "markdown",
   "metadata": {},
   "source": [
    "**13.** Faça um programa que leia e valide as seguintes informações:\n",
    "Nome: maior que 3 caracteres;\n",
    "Idade: entre 0 e 150;\n",
    "Salário: maior que zero;\n",
    "Sexo: 'f' ou 'm';\n",
    "Estado Civil: 's', 'c', 'v', 'd';"
   ]
  },
  {
   "cell_type": "markdown",
   "metadata": {},
   "source": [
    "**14.** Faça um programa que leia 5 números e informe o maior número."
   ]
  },
  {
   "cell_type": "code",
   "execution_count": 50,
   "metadata": {},
   "outputs": [
    {
     "name": "stdout",
     "output_type": "stream",
     "text": [
      "Digite o primeiro número: 4\n",
      "Digite o segundo número: 3\n",
      "Digite o terceiro número: 7\n",
      "Digite o quarto número: 3\n",
      "Digite o quinto número: 9\n",
      "O maior número digitato foi: 9\n"
     ]
    }
   ],
   "source": [
    "lista = [int(input('Digite o primeiro número: ')), int(input('Digite o segundo número: ')), \n",
    "         int(input('Digite o terceiro número: ')), int(input('Digite o quarto número: ')), \n",
    "         int(input('Digite o quinto número: '))]\n",
    "            \n",
    "lista.sort()\n",
    "\n",
    "print('O maior número digitato foi: {}'.format(lista[len(lista)-1]))"
   ]
  },
  {
   "cell_type": "markdown",
   "metadata": {},
   "source": [
    "**15.** Faça um programa que leia 5 números e informe a soma e a média dos números."
   ]
  },
  {
   "cell_type": "code",
   "execution_count": 53,
   "metadata": {},
   "outputs": [
    {
     "name": "stdout",
     "output_type": "stream",
     "text": [
      "Digite o primeiro número: 4\n",
      "Digite o segundo número: 6\n",
      "Digite o terceiro número: 5\n",
      "Digite o quarto número: 7\n",
      "Digite o quinto número: 3\n",
      "Soma = 25. Média = 5.0\n"
     ]
    }
   ],
   "source": [
    "lista = [int(input('Digite o primeiro número: ')), int(input('Digite o segundo número: ')), \n",
    "         int(input('Digite o terceiro número: ')), int(input('Digite o quarto número: ')), \n",
    "         int(input('Digite o quinto número: '))]\n",
    "\n",
    "soma = 0\n",
    "for i in lista:\n",
    "    soma = soma + i;\n",
    "\n",
    "print('Soma = {}. Média = {}'.format(soma, (soma / 5)))"
   ]
  },
  {
   "cell_type": "markdown",
   "metadata": {},
   "source": [
    "**16.** Faça um programa que imprima na tela apenas os números ímpares entre 1 e 50."
   ]
  },
  {
   "cell_type": "code",
   "execution_count": 54,
   "metadata": {},
   "outputs": [
    {
     "name": "stdout",
     "output_type": "stream",
     "text": [
      "1\n",
      "3\n",
      "5\n",
      "7\n",
      "9\n",
      "11\n",
      "13\n",
      "15\n",
      "17\n",
      "19\n",
      "21\n",
      "23\n",
      "25\n",
      "27\n",
      "29\n",
      "31\n",
      "33\n",
      "35\n",
      "37\n",
      "39\n",
      "41\n",
      "43\n",
      "45\n",
      "47\n",
      "49\n"
     ]
    }
   ],
   "source": [
    "for i in range(1, 50):\n",
    "    if  i%2 != 0:\n",
    "        print(i)"
   ]
  },
  {
   "cell_type": "markdown",
   "metadata": {},
   "source": [
    "**17.** Desenvolva um gerador de tabuada, capaz de gerar a tabuada de qualquer\n",
    "número inteiro entre 1 a 10. O usuário deve informar de qual numero ele deseja ver\n",
    "a tabuada. A saída deve ser conforme o exemplo abaixo:\n",
    "Tabuada de 5:\n",
    "5 X 1 = 5\n",
    "5 X 2 = 10\n",
    "...\n",
    "5 X 10 = 50"
   ]
  },
  {
   "cell_type": "code",
   "execution_count": 66,
   "metadata": {},
   "outputs": [
    {
     "name": "stdout",
     "output_type": "stream",
     "text": [
      "Digite o numero da tabada: 2\n",
      "2 X 1 = 2\n",
      "2 X 2 = 4\n",
      "2 X 3 = 6\n",
      "2 X 4 = 8\n",
      "2 X 5 = 10\n",
      "2 X 6 = 12\n",
      "2 X 7 = 14\n",
      "2 X 8 = 16\n",
      "2 X 9 = 18\n"
     ]
    }
   ],
   "source": [
    "num = int(input('Digite o numero da tabada: '))\n",
    "\n",
    "if  num > 0 and num <= 10:\n",
    "    \n",
    "    for i in range(1, 10):\n",
    "        print('{} X {} = {}'.format(num, i, (num*i)))\n",
    "\n"
   ]
  },
  {
   "cell_type": "markdown",
   "metadata": {},
   "source": [
    "**18.** A série de Fibonacci é formada pela seqüência 1,1,2,3,5,8,13,21,34,55,... Faça um\n",
    "programa capaz de gerar a série até o n−ésimo termo."
   ]
  },
  {
   "cell_type": "code",
   "execution_count": 68,
   "metadata": {},
   "outputs": [
    {
     "name": "stdout",
     "output_type": "stream",
     "text": [
      "Digite o n-ésimo termo: 20\n",
      "[1, 1, 2, 3, 5, 8, 13, 21, 34, 55, 89, 144, 233, 377, 610, 987, 1597, 2584, 4181, 6765]\n"
     ]
    }
   ],
   "source": [
    "n = int(input('Digite o n-ésimo termo: '))\n",
    "\n",
    "lista = [1,1]\n",
    "\n",
    "for i in range(2,n):\n",
    "    lista.append(lista[i-2]+lista[i-1])\n",
    "if n == 1:\n",
    "    print([1])\n",
    "else:\n",
    "    print(lista)"
   ]
  },
  {
   "cell_type": "markdown",
   "metadata": {},
   "source": [
    "**19.** Faça um programa que calcule o fatorial de um número inteiro fornecido pelo\n",
    "usuário. Ex.: 5!=5.4.3.2.1=120"
   ]
  },
  {
   "cell_type": "code",
   "execution_count": 70,
   "metadata": {},
   "outputs": [
    {
     "name": "stdout",
     "output_type": "stream",
     "text": [
      "Digite um numero: 5\n",
      "120\n"
     ]
    }
   ],
   "source": [
    "num = int(input(\"Digite um numero: \"))\n",
    "\n",
    "fat = 1\n",
    "x = 1\n",
    "\n",
    "while x <= num:\n",
    "    fat *= x\n",
    "    x += 1\n",
    "    \n",
    "print(fat)"
   ]
  },
  {
   "cell_type": "markdown",
   "metadata": {},
   "source": [
    "**20.** O Sr. Manoel Joaquim possui uma grande loja de artigos de R$ 1,99, com cerca\n",
    "de 10 caixas. Para agilizar o cálculo de quanto cada cliente deve pagar ele\n",
    "desenvolveu um tabela que contém o número de itens que o cliente comprou e ao\n",
    "lado o valor da conta. Desta forma a atendente do caixa precisa apenas contar\n",
    "quantos itens o cliente está levando e olhar na tabela de preços. Você foi contratado\n",
    "para desenvolver o programa que monta esta tabela de preços, que conterá os\n",
    "preços de 1 até 50 produtos, conforme o exemplo abaixo:\n",
    "Lojas Quase Dois - Tabela de preços\n",
    "1 - R$ 1.99\n",
    "2 - R$ 3.98\n",
    "...\n",
    "50 - R$ 99.50"
   ]
  },
  {
   "cell_type": "code",
   "execution_count": 2,
   "metadata": {},
   "outputs": [
    {
     "name": "stdout",
     "output_type": "stream",
     "text": [
      "Lojas Quase Dois - Tabela de preços\n",
      "1 - R$1.99\n",
      "2 - R$3.98\n",
      "3 - R$5.97\n",
      "4 - R$7.96\n",
      "5 - R$9.95\n",
      "6 - R$11.94\n",
      "7 - R$13.93\n",
      "8 - R$15.92\n",
      "9 - R$17.91\n",
      "10 - R$19.9\n",
      "11 - R$21.89\n",
      "12 - R$23.88\n",
      "13 - R$25.87\n",
      "14 - R$27.86\n",
      "15 - R$29.85\n",
      "16 - R$31.84\n",
      "17 - R$33.83\n",
      "18 - R$35.82\n",
      "19 - R$37.81\n",
      "20 - R$39.8\n",
      "21 - R$41.79\n",
      "22 - R$43.78\n",
      "23 - R$45.77\n",
      "24 - R$47.76\n",
      "25 - R$49.75\n",
      "26 - R$51.74\n",
      "27 - R$53.73\n",
      "28 - R$55.72\n",
      "29 - R$57.71\n",
      "30 - R$59.7\n",
      "31 - R$61.69\n",
      "32 - R$63.68\n",
      "33 - R$65.67\n",
      "34 - R$67.66\n",
      "35 - R$69.65\n",
      "36 - R$71.64\n",
      "37 - R$73.63\n",
      "38 - R$75.62\n",
      "39 - R$77.61\n",
      "40 - R$79.6\n",
      "41 - R$81.59\n",
      "42 - R$83.58\n",
      "43 - R$85.57\n",
      "44 - R$87.56\n",
      "45 - R$89.55\n",
      "46 - R$91.54\n",
      "47 - R$93.53\n",
      "48 - R$95.52\n",
      "49 - R$97.51\n",
      "50 - R$99.5\n"
     ]
    }
   ],
   "source": [
    "print('Lojas Quase Dois - Tabela de preços')\n",
    "for i in range(1, 51):\n",
    "    print('{} - R${}'.format(i, (i*1.99)))"
   ]
  },
  {
   "cell_type": "markdown",
   "metadata": {},
   "source": [
    "**21.** O Sr. Manoel Joaquim acaba de adquirir uma panificadora e pretende implantar\n",
    "a metodologia da tabelinha, que já é um sucesso na sua loja de 1,99. Você foi\n",
    "contratado para desenvolver o programa que monta a tabela de preços de pães, de\n",
    "1 até 50 pães, a partir do preço do pão informado pelo usuário, conforme o exemplo\n",
    "abaixo:\n",
    "Preço do pão: R$ 0.18\n",
    "Panificadora Pão de Ontem - Tabela de preços\n",
    "1 - R$ 0.18\n",
    "2 - R$ 0.36\n",
    "...\n",
    "50 - R$ 9.00"
   ]
  },
  {
   "cell_type": "code",
   "execution_count": 3,
   "metadata": {},
   "outputs": [
    {
     "name": "stdout",
     "output_type": "stream",
     "text": [
      "Preço do pão: 0.18\n",
      "Panificadora Pão de Ontem - Tabela de preços\n",
      "1 - R$0.18\n",
      "2 - R$0.36\n",
      "3 - R$0.54\n",
      "4 - R$0.72\n",
      "5 - R$0.8999999999999999\n",
      "6 - R$1.08\n",
      "7 - R$1.26\n",
      "8 - R$1.44\n",
      "9 - R$1.6199999999999999\n",
      "10 - R$1.7999999999999998\n",
      "11 - R$1.98\n",
      "12 - R$2.16\n",
      "13 - R$2.34\n",
      "14 - R$2.52\n",
      "15 - R$2.6999999999999997\n",
      "16 - R$2.88\n",
      "17 - R$3.06\n",
      "18 - R$3.2399999999999998\n",
      "19 - R$3.42\n",
      "20 - R$3.5999999999999996\n",
      "21 - R$3.78\n",
      "22 - R$3.96\n",
      "23 - R$4.14\n",
      "24 - R$4.32\n",
      "25 - R$4.5\n",
      "26 - R$4.68\n",
      "27 - R$4.859999999999999\n",
      "28 - R$5.04\n",
      "29 - R$5.22\n",
      "30 - R$5.3999999999999995\n",
      "31 - R$5.58\n",
      "32 - R$5.76\n",
      "33 - R$5.9399999999999995\n",
      "34 - R$6.12\n",
      "35 - R$6.3\n",
      "36 - R$6.4799999999999995\n",
      "37 - R$6.66\n",
      "38 - R$6.84\n",
      "39 - R$7.02\n",
      "40 - R$7.199999999999999\n",
      "41 - R$7.38\n",
      "42 - R$7.56\n",
      "43 - R$7.739999999999999\n",
      "44 - R$7.92\n",
      "45 - R$8.1\n",
      "46 - R$8.28\n",
      "47 - R$8.459999999999999\n",
      "48 - R$8.64\n",
      "49 - R$8.82\n",
      "50 - R$9.0\n"
     ]
    }
   ],
   "source": [
    "preco = float(input('Preço do pão: '))\n",
    "\n",
    "print('Panificadora Pão de Ontem - Tabela de preços')\n",
    "for i in range(1, 51):\n",
    "    print('{} - R${}'.format(i, (i*preco)))"
   ]
  },
  {
   "cell_type": "markdown",
   "metadata": {},
   "source": [
    "**22.** O Sr. Manoel Joaquim expandiu seus negócios para além dos negócios de 1,99 e\n",
    "agora possui uma loja de conveniências. Faça um programa que implemente uma\n",
    "caixa registradora rudimentar. O programa deverá receber um número\n",
    "desconhecido de valores referentes aos preços das mercadorias. Um valor zero deve\n",
    "ser informado pelo operador para indicar o final da compra. O programa deve então\n",
    "mostrar o total da compra e perguntar o valor em dinheiro que o cliente forneceu,\n",
    "para então calcular e mostrar o valor do troco. Após esta operação, o programa\n",
    "deverá voltar ao ponto inicial, para registrar a próxima compra. A saída deve ser\n",
    "conforme o exemplo abaixo:\n",
    "Lojas Tabajara\n",
    "Produto 1: R$ 2.20\n",
    "Produto 2: R$ 5.80\n",
    "Produto 3: R$ 0\n",
    "Total: R$ 9.00\n",
    "Dinheiro: R$ 20.00\n",
    "Troco: R$ 11.00"
   ]
  },
  {
   "cell_type": "code",
   "execution_count": 7,
   "metadata": {},
   "outputs": [
    {
     "name": "stdout",
     "output_type": "stream",
     "text": [
      "Lojas Tabajara\n",
      "Produto : 11\n",
      "Produto : 22\n",
      "Produto : 30\n",
      "[1.0, 2.0]\n"
     ]
    }
   ],
   "source": [
    "valores = []\n",
    "\n",
    "print('Lojas Tabajara')\n",
    "\n",
    "cont = 1\n",
    "\n",
    "while True:\n",
    "    valor = float(input(f'Produto {cont}: '))\n",
    "    if(valor == 0):\n",
    "        print(valores)\n",
    "        break\n",
    "    else:\n",
    "        valores.append(valor)\n",
    "    cont += 1\n",
    "    \n"
   ]
  },
  {
   "cell_type": "markdown",
   "metadata": {},
   "source": [
    "**23.** Foi feita uma estatística em cinco cidades brasileiras para coletar dados sobre\n",
    "acidentes de trânsito. Foram obtidos os seguintes dados:\n",
    "- Código da cidade;\n",
    "- Número de veículos de passeio (em 1999);\n",
    "- Número de acidentes de trânsito com vítimas (em 1999). Deseja-se saber:\n",
    "- Qual o maior e menor índice de acidentes de transito e a que cidade pertence;\n",
    "- Qual a média de veículos nas cinco cidades juntas;\n",
    "- Qual a média de acidentes de trânsito nas cidades com menos de 2.000 veículos de\n",
    "passeio."
   ]
  },
  {
   "cell_type": "code",
   "execution_count": 7,
   "metadata": {},
   "outputs": [
    {
     "name": "stdout",
     "output_type": "stream",
     "text": [
      "Entre com código cidade: 10\n",
      "Entre com a quantidade de veiculos : 8593\n",
      "Entre com a quantidade de acidentes :453\n",
      "Entre com código cidade: 11\n",
      "Entre com a quantidade de veiculos : 4353\n",
      "Entre com a quantidade de acidentes :123\n",
      "Entre com código cidade: 12\n",
      "Entre com a quantidade de veiculos : 8786\n",
      "Entre com a quantidade de acidentes :232\n",
      "Entre com código cidade: 13\n",
      "Entre com a quantidade de veiculos : 465654\n",
      "Entre com a quantidade de acidentes :343\n",
      "Entre com código cidade: 14\n",
      "Entre com a quantidade de veiculos : 8695\n",
      "Entre com a quantidade de acidentes :34\n",
      "Maior indice de acidentes:  453\n",
      "Menor indice de acidentes:  34\n",
      "Cidade do maior indice de acidentes:  10\n",
      "Cidade do menor indice de acidentes:  14\n",
      "Media de veiculos de todas as cidades:  99216.2\n",
      "Media acidentes de transitos:  0.0\n"
     ]
    }
   ],
   "source": [
    "cod_cidades = []\n",
    "n_veiculos = []\n",
    "n_acidentes = []\n",
    "\n",
    "for i in range(5):\n",
    "    cod_cidades.append(int(input('Entre com código cidade: ')))\n",
    "    n_veiculos.append(int(input('Entre com a quantidade de veiculos : ')))\n",
    "    n_acidentes.append(int(input('Entre com a quantidade de acidentes :')))\n",
    "\n",
    "maior_indice_acidente = n_acidentes[0]\n",
    "menor_indice_acidente = n_acidentes[0]\n",
    "maior_index_acidente = 0\n",
    "menor_index_acidentes = 0\n",
    "\n",
    "for i, v in enumerate(n_acidentes):\n",
    "    if maior_indice_acidente < v:\n",
    "        maior_indice_acidente = v\n",
    "        maior_index_acidente = i\n",
    "    else:\n",
    "        menor_indice_acidente = v\n",
    "        menor_index_acidentes = i\n",
    "        \n",
    "media_veiculos = 0\n",
    "soma_veiculos = 0 \n",
    "cidades_mais_de_2k_veiculos = []\n",
    "for i, v in enumerate(n_veiculos):\n",
    "    soma_veiculos += v\n",
    "    if v > 2000:\n",
    "        cidades_mais_de_2k_veiculos.append(i)\n",
    "        \n",
    "media_veiculos = soma_veiculos/len(n_veiculos)\n",
    "\n",
    "soma_acidentes = 0\n",
    "media_acidentes = 0\n",
    "for i, v in enumerate(n_acidentes):\n",
    "    if not i in cidades_mais_de_2k_veiculos:\n",
    "        soma_acidentes += v\n",
    "        \n",
    "media_acidentes = soma_acidentes/len(n_acidentes)\n",
    "\n",
    "print('Maior indice de acidentes: ', maior_indice_acidente)\n",
    "print('Menor indice de acidentes: ', menor_indice_acidente)\n",
    "print('Cidade do maior indice de acidentes: ', cod_cidades[maior_index_acidente])\n",
    "print('Cidade do menor indice de acidentes: ', cod_cidades[menor_index_acidentes])\n",
    "print('Media de veiculos de todas as cidades: ', media_veiculos)\n",
    "print('Media acidentes de transitos: ', media_acidentes)"
   ]
  },
  {
   "cell_type": "markdown",
   "metadata": {},
   "source": [
    "**24.** Faça um programa que receba o valor de uma dívida e mostre uma tabela com\n",
    "os seguintes dados: valor da dívida, valor dos juros, quantidade de parcelas e valor\n",
    "da parcela.\n",
    "Os juros e a quantidade de parcelas seguem a tabela abaixo:\n",
    "Quantidade de Parcelas % de Juros sobre o valor inicial da dívida\n",
    "1 0\n",
    "3 10\n",
    "6 15\n",
    "9 20\n",
    "12 25\n",
    "Exemplo de saída do programa:\n",
    "Valor da Dívida Valor dos Juros Quantidade de Parcelas Valor da Parcela\n",
    "R$ 1.000,00 0 1 R$ 1.000,00\n",
    "R$ 1.100,00 100 3 R$ 366,00\n",
    "R$ 1.150,00 150 6 R$ 191,67"
   ]
  },
  {
   "cell_type": "code",
   "execution_count": 4,
   "metadata": {},
   "outputs": [
    {
     "name": "stdout",
     "output_type": "stream",
     "text": [
      "Digite valor da divida1000\n",
      "Valor da Divida 1000.0 valor do juros  0.0 quantidade de apercelas 0  valor da parcela  1000.0\n",
      "Valor da Divida 1000.0 valor do juros  50.0 quantidade de apercelas 3  valor da parcela  1050.0\n",
      "Valor da Divida 1000.0 valor do juros  100.0 quantidade de apercelas 6  valor da parcela  1100.0\n",
      "Valor da Divida 1000.0 valor do juros  150.0 quantidade de apercelas 9  valor da parcela  1150.0\n",
      "Valor da Divida 1000.0 valor do juros  200.0 quantidade de apercelas 12  valor da parcela  1200.0\n"
     ]
    }
   ],
   "source": [
    "divida = float(input(\"Digite valor da divida\"))\n",
    "juros = 0\n",
    "parcelas = 3\n",
    "for x in range(5):\n",
    "  print('Valor da Divida',divida,\n",
    "  'valor do juros ', juros*(divida/100),\n",
    "  'quantidade de apercelas', parcelas * (x),\n",
    "  ' valor da parcela ', divida+(juros*(divida/100))\n",
    "  )\n",
    "  juros +=5"
   ]
  },
  {
   "cell_type": "markdown",
   "metadata": {},
   "source": [
    "**25.** Faça um programa que mostre os n termos da Série a seguir:\n",
    " S = 1/1 + 2/3 + 3/5 + 4/7 + 5/9 + ... + n/m.\n",
    "Imprima no final a soma da série."
   ]
  },
  {
   "cell_type": "code",
   "execution_count": 11,
   "metadata": {},
   "outputs": [
    {
     "name": "stdout",
     "output_type": "stream",
     "text": [
      "entre com o n: 2\n",
      "entre com o m: 3\n",
      "S = 1/1 + 2/3\n",
      "Soma: 1.67\n"
     ]
    }
   ],
   "source": [
    "n = int(input('entre com o n: '))\n",
    "m = int(input('entre com o m: '))\n",
    "\n",
    "def mostra(n, m):\n",
    "    m = (m/2)\n",
    "    result = ''\n",
    "    i = 1\n",
    "    s = 1\n",
    "    while(i <= m):\n",
    "        s+=2\n",
    "        result += str(i+1)+'/'+str(s)+' + '\n",
    "        i+=1\n",
    "    return result[0:len(result)-3]\n",
    "    \n",
    "def soma(n, m):\n",
    "    m = (m/2)\n",
    "    soma = 0\n",
    "    i = 1\n",
    "    while(i <= m):\n",
    "        soma += ((i+1)/(i+2))\n",
    "        i+=1\n",
    "    soma += (1/1)\n",
    "    return soma    \n",
    "    \n",
    "if n >= 1 and m >= 1:\n",
    "    soma = soma(n, m)\n",
    "    print('S = 1/1 + '+ mostra(n, m))\n",
    "    print('Soma: %.2f' %soma)\n",
    "else: \n",
    "    print('Números menores que 1')"
   ]
  }
 ],
 "metadata": {
  "kernelspec": {
   "display_name": "Python 3",
   "language": "python",
   "name": "python3"
  },
  "language_info": {
   "codemirror_mode": {
    "name": "ipython",
    "version": 3
   },
   "file_extension": ".py",
   "mimetype": "text/x-python",
   "name": "python",
   "nbconvert_exporter": "python",
   "pygments_lexer": "ipython3",
   "version": "3.7.3"
  }
 },
 "nbformat": 4,
 "nbformat_minor": 2
}
