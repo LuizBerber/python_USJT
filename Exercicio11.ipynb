{
 "cells": [
  {
   "cell_type": "markdown",
   "metadata": {},
   "source": [
    "### Exercício 11\n",
    "**Nome**: Luiz Fernando Ferreira Berber <br>\n",
    "**RA**: 817123421"
   ]
  },
  {
   "cell_type": "markdown",
   "metadata": {},
   "source": [
    "**1 Menor de dois pares:** Escreva uma função que retorne o menor de dois números\n",
    "dados se ambos os números forem pares, mas retorna o maior se um dos dois for\n",
    "ímpar. Exemplo:\n",
    "menor_de_dois_pares(2,4) --> 2\n",
    "menor_de_dois_pares (2,5) --> 5"
   ]
  },
  {
   "cell_type": "code",
   "execution_count": 10,
   "metadata": {},
   "outputs": [
    {
     "name": "stdout",
     "output_type": "stream",
     "text": [
      "2\n",
      "5\n"
     ]
    }
   ],
   "source": [
    "def menor_de_dois_pares(num1, num2):\n",
    "    if num1%2 == 0 and num2%2 ==0:\n",
    "        if num1 < num2:\n",
    "            return num1\n",
    "        else:\n",
    "            return num2\n",
    "    else:\n",
    "        if num1 > num2:\n",
    "            return num1\n",
    "        else:\n",
    "            return num2\n",
    "        \n",
    "print(menor_de_dois_pares(2,4))\n",
    "print(menor_de_dois_pares(2,5))"
   ]
  },
  {
   "cell_type": "markdown",
   "metadata": {},
   "source": [
    "**2 Mesma letra:** Escreva uma função que receba uma string com duas palavras e\n",
    "retorne True se ambas palavras começarem com a mesma letra. Exemplo:\n",
    "mesma_letra('Cão covarde') -> True\n",
    "mesma_letra('Vira Lata') -> False"
   ]
  },
  {
   "cell_type": "code",
   "execution_count": 29,
   "metadata": {},
   "outputs": [
    {
     "name": "stdout",
     "output_type": "stream",
     "text": [
      "True\n",
      "False\n"
     ]
    }
   ],
   "source": [
    "def mesma_letra(palavra):\n",
    "    \n",
    "    palavra = palavra.split()\n",
    "    \n",
    "    if palavra[0][0].upper() == palavra[1][0].upper():\n",
    "        return True\n",
    "    else:\n",
    "        return False\n",
    "    \n",
    "print(mesma_letra(\"Cao covarde\"))\n",
    "print(mesma_letra(\"Vira Lata\"))"
   ]
  },
  {
   "cell_type": "markdown",
   "metadata": {},
   "source": [
    "**3 Mestre Yoda:** Dada uma sentença, a função deve retornar a sentença com as\n",
    "palavras na ordem reversa. Exemplo:\n",
    "mestre_yoda('Eu estou em casa') --> 'casa em estou Eu'\n",
    "mestre_yoda('Estamos prontos') --> 'prontos Estamos'\n"
   ]
  },
  {
   "cell_type": "code",
   "execution_count": 30,
   "metadata": {},
   "outputs": [
    {
     "data": {
      "text/plain": [
       "' prontos Estamos'"
      ]
     },
     "execution_count": 30,
     "metadata": {},
     "output_type": "execute_result"
    }
   ],
   "source": [
    "def mestre_yoda(s):\n",
    "    lista = s.split()[::-1]\n",
    "    s = ''\n",
    "    for i in lista:\n",
    "        s += ' ' + i\n",
    "    return s\n",
    "\n",
    "\n",
    "mestre_yoda('Estamos prontos')"
   ]
  },
  {
   "cell_type": "markdown",
   "metadata": {},
   "source": [
    "**4 Tem 33:** Faça uma função que retorne True se, dada uma lista de inteiros, houver\n",
    "em alguma posição da lista um 3 do lado de outro 3. Exemplo:\n",
    "\n",
    "- tem_33([1,3,3]) --> True\n",
    "- tem_33([1,3,1,3]) --> False\n",
    "- tem_33([3,1,3]) --> False"
   ]
  },
  {
   "cell_type": "code",
   "execution_count": 38,
   "metadata": {},
   "outputs": [
    {
     "name": "stdout",
     "output_type": "stream",
     "text": [
      "True\n",
      "False\n",
      "False\n"
     ]
    }
   ],
   "source": [
    "def tem_33(lista):\n",
    "    for i in range(len(lista)-1):\n",
    "        if lista[i] == 3 and lista[i] == lista[i+1]:\n",
    "            return True\n",
    "    return False\n",
    "\n",
    "print(tem_33([1,3,3]))\n",
    "print(tem_33([1,3,1,3]))\n",
    "print(tem_33([3,1,3]))"
   ]
  },
  {
   "cell_type": "markdown",
   "metadata": {},
   "source": [
    "**5 Blackjack:** Faça uma função que receba 3 inteiros entre 1 e 11. Se a soma deles for\n",
    "menor que 21, retorne o valor da soma. Se for mair do que 21 e houver um 11,\n",
    "subtraia 10 da soma antes de apresentar o resultado. Se o valor da soma passar de\n",
    "21, retorne ‘ESTOUROU’. Exemplo:\n",
    "blackjack(5,6,7) --> 18\n",
    "blackjack(9,9,9) --> 'ESTOUROU'\n",
    "blackjack(9,9,11) --> 19"
   ]
  },
  {
   "cell_type": "code",
   "execution_count": 42,
   "metadata": {},
   "outputs": [
    {
     "name": "stdout",
     "output_type": "stream",
     "text": [
      "18\n",
      "Estourou!\n",
      "Digite números menores que 11!\n",
      "19\n"
     ]
    }
   ],
   "source": [
    "def blackjack(n1, n2, n3):\n",
    "    if n1 <= 11 and n2 <= 11 and n3 <= 11:\n",
    "        sum = n1 + n2 + n3\n",
    "        if sum <= 21:\n",
    "            return sum\n",
    "        if sum > 21 and 11 in [n1, n2, n3]:\n",
    "            return sum - 10\n",
    "        else:\n",
    "            return 'Estourou!'\n",
    "    else:\n",
    "        return 'Digite números menores que 11!'\n",
    "    \n",
    "print(blackjack(5,6,7))\n",
    "print(blackjack(9,9,9))\n",
    "print(blackjack(9,6,12))\n",
    "print(blackjack(9,9,11))"
   ]
  },
  {
   "cell_type": "markdown",
   "metadata": {},
   "source": [
    "**6 Espião:** Escreva uma função que receba uma lista de\n",
    "inteiros e retorne True se contém um 007 em ordem, mesmo\n",
    "que não contínuo. Exemplo:\n",
    "espiao([1,2,4,0,0,7,5]) --> True\n",
    "espiao([1,0,2,4,0,5,7]) --> True\n",
    "espiao([1,7,2,4,0,5,0]) --> False"
   ]
  },
  {
   "cell_type": "code",
   "execution_count": 46,
   "metadata": {},
   "outputs": [
    {
     "name": "stdout",
     "output_type": "stream",
     "text": [
      "True\n",
      "True\n",
      "False\n"
     ]
    }
   ],
   "source": [
    "def espiao(lista):\n",
    "    chave = [0,0,7]\n",
    "    ret = [False, False, False]\n",
    "    k = 0\n",
    "    for i in lista:\n",
    "        if i == chave[k]:\n",
    "            ret[k] = True\n",
    "            k += 1\n",
    "            if k >= len(chave):\n",
    "                break\n",
    "    return ret[0] and ret[1] and ret[2]\n",
    "\n",
    "print(espiao([1,2,4,0,0,7,5]))\n",
    "print(espiao([1,0,2,4,0,5,7]))\n",
    "print(espiao([1,7,2,4,0,5,0]))"
   ]
  },
  {
   "cell_type": "markdown",
   "metadata": {},
   "source": [
    "**7 Linha:** Crie a classe Linha que tem dois atributos, coordenada1 e coordenada2.\n",
    "Cada coordenada é uma tupla que carrega duas coordenadas cartesianas (x,y) que\n",
    "denotam pontos do segmento de reta. Faça métodos que calculem o comprimento\n",
    "do segmento de reta e sua inclinação."
   ]
  },
  {
   "cell_type": "code",
   "execution_count": 1,
   "metadata": {},
   "outputs": [
    {
     "name": "stdout",
     "output_type": "stream",
     "text": [
      "Comprimento: 4.90\n",
      "Inclinação:  1.5\n"
     ]
    }
   ],
   "source": [
    "import math\n",
    "class Linha:\n",
    "  def __init__(self, c1, c2):\n",
    "    self.coordenada1 = c1\n",
    "    self.coordenada2 = c2\n",
    "  \n",
    "  def comprimento(self):\n",
    "      return math.sqrt((self.coordenada2[0] - self.coordenada1[0])**2 + (self.coordenada2[1] ))\n",
    "\n",
    "  def inclinacao(self):\n",
    "      return (self.coordenada2[1] - self.coordenada1[1]) / (self.coordenada2[0] - self.coordenada1[0])\n",
    "\n",
    "linha = Linha((3, 2), (7, 8))\n",
    "print('Comprimento: %.2f' %linha.comprimento())\n",
    "print('Inclinação: ',linha.inclinacao())\n"
   ]
  },
  {
   "cell_type": "markdown",
   "metadata": {},
   "source": [
    "**8 Figuras:** Crie a seguinte hierarquia de classes de figuras geométricas. Veja na figura\n",
    "as fórmulas:\n",
    "- a. A classe abstrata Figura deve ter o método abstrato area.\n",
    "- b. A classe concreta Circulo é subclasse de Figura.\n",
    "- c. A classe abstrata Poligono é subclasse de Figura e deve ter os atributos base e\n",
    "altura .\n",
    "- d. As classes concretas Triangulo, Losango, Retangulo e Quadrado são subclasses\n",
    "de Poligono. Tente criar mais uma generalização aqui olhando as fórmulas da área.\n",
    "- e. Os polígonos Retangulo e Quadrado devem implementar a interface Diagonal,\n",
    "que deve ter um método que calcula a diagonal.\n",
    "- f. Crie uma classe Geometria com uma lista de Figuras com pelo menos uma\n",
    "figura de cada e imprima suas áreas, perímetros e diagonais."
   ]
  },
  {
   "cell_type": "code",
   "execution_count": 2,
   "metadata": {},
   "outputs": [],
   "source": [
    "class Figura:\n",
    "    def area(self):\n",
    "        raise NotImplementedError(\n",
    "            \"A subclasse deve implementar o método abstrato\")\n",
    "    def perimetro(self):\n",
    "        raise NotImplementedError(\n",
    "            \"A subclasse deve implementar o método abstrato\")"
   ]
  },
  {
   "cell_type": "code",
   "execution_count": 3,
   "metadata": {},
   "outputs": [
    {
     "name": "stdout",
     "output_type": "stream",
     "text": [
      "28.274333882308138\n",
      "18.84955592153876\n"
     ]
    }
   ],
   "source": [
    "from math import pi\n",
    "class Circulo(Figura):\n",
    "    def __init__(self, raio):\n",
    "        self.raio = raio\n",
    "    def area(self):\n",
    "        return self.raio**2 * pi\n",
    "    \n",
    "    def perimetro(self):\n",
    "        return 2*pi*self.raio\n",
    "    \n",
    "    \n",
    "circulo = Circulo(3)\n",
    "print(circulo.area())\n",
    "print(circulo.perimetro())"
   ]
  },
  {
   "cell_type": "code",
   "execution_count": 4,
   "metadata": {},
   "outputs": [],
   "source": [
    "from math import sqrt\n",
    "\n",
    "class Poligono(Figura):\n",
    "    def __init__(self,base,altura):\n",
    "        self._base=base\n",
    "        self._altura=altura\n",
    "        \n",
    "    def area(self):\n",
    "        return self._base * self._altura\n",
    "\n",
    "class Diagonal:\n",
    "    def __init__(self,base,altura):\n",
    "        self._base=base\n",
    "        self._altura=altura\n",
    "        \n",
    "    def diagonal(self):\n",
    "        return sqrt(self._base**2 + self._altura**2)\n",
    "    \n",
    "class Quadrilatero(Figura):\n",
    "    def __init__(self,base,altura):\n",
    "        self._base=base\n",
    "        self._altura=altura\n",
    "        \n",
    "    def perimetro(self):\n",
    "        return (self._base*2 + self._altura*2)\n",
    "        \n",
    "class Quadrado(Poligono,Diagonal,Quadrilatero):\n",
    "    def __init__(self,lado):\n",
    "        Poligono.__init__(self,lado,lado)\n",
    "        Diagonal.__init__(self,lado,lado)\n",
    "        Quadrilatero.__init__(self,lado,lado)\n",
    "    \n",
    "class Retangulo(Poligono,Diagonal,Quadrilatero):\n",
    "    def __init__(self,base,altura):\n",
    "        Poligono.__init__(self,base,altura)\n",
    "        Diagonal.__init__(self,base,altura)\n",
    "        Quadrilatero.__init__(self,base,altura)\n",
    "        \n",
    "class Losango(Poligono,Quadrilatero):\n",
    "    def __init__(self,base,altura):\n",
    "        Poligono.__init__(self,base,altura)\n",
    "        Quadrilatero.__init__(self,base,altura)\n",
    "\n",
    "class Triangulo(Figura):\n",
    "    def __init__(self,lado1,lado2,lado3):\n",
    "        if lado1>=lado2+lado3 or lado2>=lado1+lado3 or lado3>=lado1+lado2:\n",
    "            raise Eception(\"Não é um triângulo\")\n",
    "            \n",
    "        self._lado1 = lado1\n",
    "        self._lado2 = lado2\n",
    "        self._lado3 = lado3\n",
    "    \n",
    "    def perimetro(self):\n",
    "        return self._lado1 + self._lado2 + self._lado3\n",
    "    \n",
    "    def area(self):\n",
    "        s = self.perimetro()/2\n",
    "        return sqrt(s*(s-self._lado1)*(s-self._lado2)*(s-self._lado3))\n",
    "    \n",
    "class Geometria:\n",
    "    pass"
   ]
  },
  {
   "cell_type": "code",
   "execution_count": 5,
   "metadata": {},
   "outputs": [
    {
     "name": "stdout",
     "output_type": "stream",
     "text": [
      "<class '__main__.Circulo'>------------------------------------------------------------\n",
      "área: 28.27\n",
      "perímetro: 18.85\n",
      "<class '__main__.Quadrado'>------------------------------------------------------------\n",
      "área: 4.00\n",
      "perímetro: 8.00\n",
      "diagonal: 2.83\n",
      "<class '__main__.Retangulo'>------------------------------------------------------------\n",
      "área: 6.00\n",
      "perímetro: 10.00\n",
      "diagonal: 3.61\n",
      "<class '__main__.Triangulo'>------------------------------------------------------------\n",
      "área: 2.90\n",
      "perímetro: 9.00\n",
      "<class '__main__.Losango'>------------------------------------------------------------\n",
      "área: 6.00\n",
      "perímetro: 10.00\n"
     ]
    }
   ],
   "source": [
    "figuras = [Circulo(3), Quadrado(2), Retangulo(2,3), Triangulo(2,3,4), Losango(3,2)]\n",
    "for figura in figuras:\n",
    "    print(str(type(figura))+'-'*60)\n",
    "    print('área: %.2f' % (figura.area()))\n",
    "    print('perímetro: %.2f' % (figura.perimetro()))\n",
    "    if isinstance(figura,Diagonal):\n",
    "        print('diagonal: %.2f' % (figura.diagonal()))"
   ]
  }
 ],
 "metadata": {
  "kernelspec": {
   "display_name": "Python 3",
   "language": "python",
   "name": "python3"
  },
  "language_info": {
   "codemirror_mode": {
    "name": "ipython",
    "version": 3
   },
   "file_extension": ".py",
   "mimetype": "text/x-python",
   "name": "python",
   "nbconvert_exporter": "python",
   "pygments_lexer": "ipython3",
   "version": "3.7.3"
  }
 },
 "nbformat": 4,
 "nbformat_minor": 2
}
